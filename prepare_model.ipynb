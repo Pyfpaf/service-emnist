{
 "cells": [
  {
   "cell_type": "markdown",
   "id": "eb199a05",
   "metadata": {
    "id": "eb199a05"
   },
   "source": [
    "# Подготовка модели распознавания рукописных букв и цифр\n",
    "\n",
    "Вам предстоит самостоятельно обучить модель для задачи распознавания рукописных букв и цифр с помощью датасета `emnist`. Результатом должна быть обученная модель, сохранённая в файл `model.pkl`.\n",
    "\n",
    "Можете воспользоваться предложенным порядком действий и подсказками из этого ноутбука или подойти к решению задачи самостоятельно и написать всё с нуля. То же касается и процесса упаковки модели в сервис для распознавания самостоятельно написанных символов.\n",
    "\n",
    "В этом ноутбуке комментариями и символами `...` отмечены места для вашего кода.\n",
    "\n",
    "Перед отправкой решения убедитесь, что все ячейки ноутбука выполняются последовательно без ошибок, если запустить `Kernel -> Restart & Run All`.\n",
    "\n",
    "Успехов!\n",
    "\n",
    "### 1. Установите и импортируйте необходимые библиотеки"
   ]
  },
  {
   "cell_type": "code",
   "execution_count": 1,
   "id": "9abed783",
   "metadata": {
    "id": "9abed783",
    "scrolled": true
   },
   "outputs": [
    {
     "name": "stdout",
     "output_type": "stream",
     "text": [
      "Collecting git+https://github.com/hosford42/emnist.git\n",
      "  Cloning https://github.com/hosford42/emnist.git to c:\\users\\alex\\appdata\\local\\temp\\pip-req-build-6nkfbvwh\n",
      "  Resolved https://github.com/hosford42/emnist.git to commit 1d3981f28e073ca3c15c796f90ab033488ba2f35\n",
      "  Preparing metadata (setup.py): started\n",
      "  Preparing metadata (setup.py): finished with status 'done'\n",
      "Requirement already satisfied: numpy in c:\\anaconda3\\lib\\site-packages (from emnist==0.0.1) (1.24.4)\n",
      "Requirement already satisfied: requests in c:\\anaconda3\\lib\\site-packages (from emnist==0.0.1) (2.31.0)\n",
      "Requirement already satisfied: tqdm in c:\\anaconda3\\lib\\site-packages (from emnist==0.0.1) (4.65.0)\n",
      "Requirement already satisfied: charset-normalizer<4,>=2 in c:\\anaconda3\\lib\\site-packages (from requests->emnist==0.0.1) (2.0.4)\n",
      "Requirement already satisfied: idna<4,>=2.5 in c:\\anaconda3\\lib\\site-packages (from requests->emnist==0.0.1) (3.4)\n",
      "Requirement already satisfied: urllib3<3,>=1.21.1 in c:\\anaconda3\\lib\\site-packages (from requests->emnist==0.0.1) (2.0.7)\n",
      "Requirement already satisfied: certifi>=2017.4.17 in c:\\anaconda3\\lib\\site-packages (from requests->emnist==0.0.1) (2024.8.30)\n",
      "Requirement already satisfied: colorama in c:\\anaconda3\\lib\\site-packages (from tqdm->emnist==0.0.1) (0.4.6)\n"
     ]
    },
    {
     "name": "stderr",
     "output_type": "stream",
     "text": [
      "  Running command git clone --filter=blob:none --quiet https://github.com/hosford42/emnist.git 'C:\\Users\\Alex\\AppData\\Local\\Temp\\pip-req-build-6nkfbvwh'\n"
     ]
    }
   ],
   "source": [
    "!pip install git+https://github.com/hosford42/emnist.git\n",
    "# your pip installs here"
   ]
  },
  {
   "cell_type": "code",
   "execution_count": 1,
   "id": "99ac860b",
   "metadata": {
    "id": "99ac860b"
   },
   "outputs": [],
   "source": [
    "import os\n",
    "import pickle\n",
    "import emnist\n",
    "import random\n",
    "\n",
    "# your imports here\n",
    "\n",
    "import numpy as np\n",
    "import pandas as pd\n",
    "import torch\n",
    "\n",
    "import matplotlib.pyplot as plt"
   ]
  },
  {
   "cell_type": "markdown",
   "id": "dcf2e1da",
   "metadata": {
    "id": "dcf2e1da"
   },
   "source": [
    "### 2. Загрузите датасет и проанализируйте его\n",
    "\n",
    "Датасет в качестве лейблов (или таргетов) содержит числа от 0 до 46. Каждому числу соответствует ASCII-код некоторого символа. Пары «лейбл — код» хранятся в файле `emnist-balanced-mapping.txt`.\n",
    "Выведите на экран количество семплов в каждом сплите датасета и размер изображений. Также для каждого лейбла выведите соответствующий ему символ и количество тренировочных семплов, приходящееся на него.\n",
    "Посмотрите на несколько примеров изображений.\n",
    "\n",
    "_Подсказка: чтобы получить символ из ASCII-кода, нужно воспользоваться функцией_ `chr()`. _Для вашего удобства можно построить словарь_ (`dict`) _соответствий._"
   ]
  },
  {
   "cell_type": "code",
   "execution_count": 3,
   "id": "cb5035ba",
   "metadata": {
    "id": "cb5035ba"
   },
   "outputs": [
    {
     "name": "stdout",
     "output_type": "stream",
     "text": [
      "Train: 112800 samples\n",
      "Test: 18800 samples\n",
      "Image size: (28, 28)\n"
     ]
    }
   ],
   "source": [
    "images_train, labels_train = emnist.extract_training_samples('balanced')\n",
    "images_test, labels_test = emnist.extract_test_samples('balanced')\n",
    "print(f'Train: {images_train.shape[0]} samples')\n",
    "print(f'Test: {images_test.shape[0]} samples')\n",
    "print(f'Image size: {images_train.shape[-2:]}')"
   ]
  },
  {
   "cell_type": "code",
   "execution_count": 9,
   "id": "ec1c7a6d",
   "metadata": {
    "id": "ec1c7a6d",
    "scrolled": true
   },
   "outputs": [
    {
     "name": "stdout",
     "output_type": "stream",
     "text": [
      "Символ 0 со значением лейбла 0 имеет 2400 тренировочных семплов. (Проверка соответствия значения лейбла номеру словаря 0)\n",
      "Символ 1 со значением лейбла 1 имеет 2400 тренировочных семплов. (Проверка соответствия значения лейбла номеру словаря 1)\n",
      "Символ 2 со значением лейбла 2 имеет 2400 тренировочных семплов. (Проверка соответствия значения лейбла номеру словаря 2)\n",
      "Символ 3 со значением лейбла 3 имеет 2400 тренировочных семплов. (Проверка соответствия значения лейбла номеру словаря 3)\n",
      "Символ 4 со значением лейбла 4 имеет 2400 тренировочных семплов. (Проверка соответствия значения лейбла номеру словаря 4)\n",
      "Символ 5 со значением лейбла 5 имеет 2400 тренировочных семплов. (Проверка соответствия значения лейбла номеру словаря 5)\n",
      "Символ 6 со значением лейбла 6 имеет 2400 тренировочных семплов. (Проверка соответствия значения лейбла номеру словаря 6)\n",
      "Символ 7 со значением лейбла 7 имеет 2400 тренировочных семплов. (Проверка соответствия значения лейбла номеру словаря 7)\n",
      "Символ 8 со значением лейбла 8 имеет 2400 тренировочных семплов. (Проверка соответствия значения лейбла номеру словаря 8)\n",
      "Символ 9 со значением лейбла 9 имеет 2400 тренировочных семплов. (Проверка соответствия значения лейбла номеру словаря 9)\n",
      "Символ A со значением лейбла 10 имеет 2400 тренировочных семплов. (Проверка соответствия значения лейбла номеру словаря 10)\n",
      "Символ B со значением лейбла 11 имеет 2400 тренировочных семплов. (Проверка соответствия значения лейбла номеру словаря 11)\n",
      "Символ C со значением лейбла 12 имеет 2400 тренировочных семплов. (Проверка соответствия значения лейбла номеру словаря 12)\n",
      "Символ D со значением лейбла 13 имеет 2400 тренировочных семплов. (Проверка соответствия значения лейбла номеру словаря 13)\n",
      "Символ E со значением лейбла 14 имеет 2400 тренировочных семплов. (Проверка соответствия значения лейбла номеру словаря 14)\n",
      "Символ F со значением лейбла 15 имеет 2400 тренировочных семплов. (Проверка соответствия значения лейбла номеру словаря 15)\n",
      "Символ G со значением лейбла 16 имеет 2400 тренировочных семплов. (Проверка соответствия значения лейбла номеру словаря 16)\n",
      "Символ H со значением лейбла 17 имеет 2400 тренировочных семплов. (Проверка соответствия значения лейбла номеру словаря 17)\n",
      "Символ I со значением лейбла 18 имеет 2400 тренировочных семплов. (Проверка соответствия значения лейбла номеру словаря 18)\n",
      "Символ J со значением лейбла 19 имеет 2400 тренировочных семплов. (Проверка соответствия значения лейбла номеру словаря 19)\n",
      "Символ K со значением лейбла 20 имеет 2400 тренировочных семплов. (Проверка соответствия значения лейбла номеру словаря 20)\n",
      "Символ L со значением лейбла 21 имеет 2400 тренировочных семплов. (Проверка соответствия значения лейбла номеру словаря 21)\n",
      "Символ M со значением лейбла 22 имеет 2400 тренировочных семплов. (Проверка соответствия значения лейбла номеру словаря 22)\n",
      "Символ N со значением лейбла 23 имеет 2400 тренировочных семплов. (Проверка соответствия значения лейбла номеру словаря 23)\n",
      "Символ O со значением лейбла 24 имеет 2400 тренировочных семплов. (Проверка соответствия значения лейбла номеру словаря 24)\n",
      "Символ P со значением лейбла 25 имеет 2400 тренировочных семплов. (Проверка соответствия значения лейбла номеру словаря 25)\n",
      "Символ Q со значением лейбла 26 имеет 2400 тренировочных семплов. (Проверка соответствия значения лейбла номеру словаря 26)\n",
      "Символ R со значением лейбла 27 имеет 2400 тренировочных семплов. (Проверка соответствия значения лейбла номеру словаря 27)\n",
      "Символ S со значением лейбла 28 имеет 2400 тренировочных семплов. (Проверка соответствия значения лейбла номеру словаря 28)\n",
      "Символ T со значением лейбла 29 имеет 2400 тренировочных семплов. (Проверка соответствия значения лейбла номеру словаря 29)\n",
      "Символ U со значением лейбла 30 имеет 2400 тренировочных семплов. (Проверка соответствия значения лейбла номеру словаря 30)\n",
      "Символ V со значением лейбла 31 имеет 2400 тренировочных семплов. (Проверка соответствия значения лейбла номеру словаря 31)\n",
      "Символ W со значением лейбла 32 имеет 2400 тренировочных семплов. (Проверка соответствия значения лейбла номеру словаря 32)\n",
      "Символ X со значением лейбла 33 имеет 2400 тренировочных семплов. (Проверка соответствия значения лейбла номеру словаря 33)\n",
      "Символ Y со значением лейбла 34 имеет 2400 тренировочных семплов. (Проверка соответствия значения лейбла номеру словаря 34)\n",
      "Символ Z со значением лейбла 35 имеет 2400 тренировочных семплов. (Проверка соответствия значения лейбла номеру словаря 35)\n",
      "Символ a со значением лейбла 36 имеет 2400 тренировочных семплов. (Проверка соответствия значения лейбла номеру словаря 36)\n",
      "Символ b со значением лейбла 37 имеет 2400 тренировочных семплов. (Проверка соответствия значения лейбла номеру словаря 37)\n",
      "Символ d со значением лейбла 38 имеет 2400 тренировочных семплов. (Проверка соответствия значения лейбла номеру словаря 38)\n",
      "Символ e со значением лейбла 39 имеет 2400 тренировочных семплов. (Проверка соответствия значения лейбла номеру словаря 39)\n",
      "Символ f со значением лейбла 40 имеет 2400 тренировочных семплов. (Проверка соответствия значения лейбла номеру словаря 40)\n",
      "Символ g со значением лейбла 41 имеет 2400 тренировочных семплов. (Проверка соответствия значения лейбла номеру словаря 41)\n",
      "Символ h со значением лейбла 42 имеет 2400 тренировочных семплов. (Проверка соответствия значения лейбла номеру словаря 42)\n",
      "Символ n со значением лейбла 43 имеет 2400 тренировочных семплов. (Проверка соответствия значения лейбла номеру словаря 43)\n",
      "Символ q со значением лейбла 44 имеет 2400 тренировочных семплов. (Проверка соответствия значения лейбла номеру словаря 44)\n",
      "Символ r со значением лейбла 45 имеет 2400 тренировочных семплов. (Проверка соответствия значения лейбла номеру словаря 45)\n",
      "Символ t со значением лейбла 46 имеет 2400 тренировочных семплов. (Проверка соответствия значения лейбла номеру словаря 46)\n"
     ]
    }
   ],
   "source": [
    "# your code here\n",
    "# Загрузим файл с парами «лейбл — код» и создадим словарь для построения соответствий лейбла конкретному символу\n",
    "with open('emnist-balanced-mapping.txt', 'r') as file:\n",
    "    content = file.read()\n",
    "\n",
    "lines = content.strip().split('\\n')\n",
    "labels_dict = {int(lines[i].split(' ')[0]): chr(int(lines[i].split(' ')[1])) for i in range(len(lines))}\n",
    "\n",
    "# Выведем для каждого лейбла соответствующий ему символ и количество тренировочных семплов, приходящееся на него\n",
    "unique, count = np.unique(labels_train, return_counts=True)\n",
    "for index, value in labels_dict.items():\n",
    "    print(f'Символ {value} со значением лейбла {index} имеет {count[index]} тренировочных семплов. (Проверка соответствия значения лейбла номеру словаря {unique[index]})')"
   ]
  },
  {
   "cell_type": "code",
   "execution_count": 11,
   "id": "40f37143-661f-4147-bf8e-d2f48e2d03b3",
   "metadata": {},
   "outputs": [
    {
     "data": {
      "image/png": "[encoded data removed]",
      "text/plain": [
       "<Figure size 2000x1200 with 5 Axes>"
      ]
     },
     "metadata": {},
     "output_type": "display_data"
    }
   ],
   "source": [
    "# Выведем 5 случайных изображений и символ, соответствующей лейблу данного изображения\n",
    "fig, ax = plt.subplots(1, 5, figsize=(20, 12))\n",
    "\n",
    "rand_numbers = [random.randint(1, 112800) for _ in range(5)]\n",
    "for i in range(5):\n",
    "    ax[i].imshow(images_train[rand_numbers[i]], cmap='gray')\n",
    "    ax[i].set_title(f'Символ {labels_dict[labels_train[rand_numbers[i]]]}')"
   ]
  },
  {
   "cell_type": "markdown",
   "id": "44aa75fc",
   "metadata": {
    "id": "44aa75fc"
   },
   "source": [
    "### 3. Подготовьте датасет для обучения и валидации\n",
    "\n",
    "_Подсказка: чтобы вытянуть изображения в вектор, понадобится метод_ `reshape` _из библиотеки_ `numpy`."
   ]
  },
  {
   "cell_type": "code",
   "execution_count": null,
   "id": "59e4e4e1",
   "metadata": {
    "id": "59e4e4e1"
   },
   "outputs": [],
   "source": [
    "X_train = ...\n",
    "y_train = ...\n",
    "X_test = ...\n",
    "y_test = ...\n",
    "\n",
    "print('Train:', X_train.shape)\n",
    "print('Test:', X_test.shape)"
   ]
  },
  {
   "cell_type": "markdown",
   "id": "018140da",
   "metadata": {
    "id": "018140da"
   },
   "source": [
    "### 4. Выберите модель, обучите её, протестируйте и сохраните\n",
    "\n",
    "Выведите на экран точность вашей модели. Выведите и проанализируйте матрицу ошибок. Какие два символа она чаще всего путает? На каком символе модель чаще всего ошибается?"
   ]
  },
  {
   "cell_type": "code",
   "execution_count": null,
   "id": "6a0e5239",
   "metadata": {
    "id": "6a0e5239"
   },
   "outputs": [],
   "source": [
    "clf = ...\n",
    "# your code here"
   ]
  },
  {
   "cell_type": "code",
   "execution_count": null,
   "id": "e66ef38a",
   "metadata": {
    "id": "e66ef38a"
   },
   "outputs": [],
   "source": [
    "with open(os.path.join('myapp', 'model.pkl'),'wb') as f:\n",
    "    pickle.dump(clf, f)"
   ]
  }
 ],
 "metadata": {
  "colab": {
   "provenance": []
  },
  "kernelspec": {
   "display_name": "Python 3 (ipykernel)",
   "language": "python",
   "name": "python3"
  },
  "language_info": {
   "codemirror_mode": {
    "name": "ipython",
    "version": 3
   },
   "file_extension": ".py",
   "mimetype": "text/x-python",
   "name": "python",
   "nbconvert_exporter": "python",
   "pygments_lexer": "ipython3",
   "version": "3.11.8"
  }
 },
 "nbformat": 4,
 "nbformat_minor": 5
}
